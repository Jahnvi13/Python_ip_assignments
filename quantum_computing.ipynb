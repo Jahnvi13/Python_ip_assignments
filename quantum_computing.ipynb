{
  "nbformat": 4,
  "nbformat_minor": 0,
  "metadata": {
    "colab": {
      "provenance": [],
      "authorship_tag": "ABX9TyMNKCv1ot7rc94PldEKLRJE",
      "include_colab_link": true
    },
    "kernelspec": {
      "name": "python3",
      "display_name": "Python 3"
    },
    "language_info": {
      "name": "python"
    }
  },
  "cells": [
    {
      "cell_type": "markdown",
      "metadata": {
        "id": "view-in-github",
        "colab_type": "text"
      },
      "source": [
        "<a href=\"https://colab.research.google.com/github/tanyagupta1/Python_ip_assignments/blob/main/quantum_computing.ipynb\" target=\"_parent\"><img src=\"https://colab.research.google.com/assets/colab-badge.svg\" alt=\"Open In Colab\"/></a>"
      ]
    },
    {
      "cell_type": "code",
      "source": [
        "!pip install qiskit qiskit-ibmq-provider"
      ],
      "metadata": {
        "id": "MiMhDbCJCLiP"
      },
      "execution_count": null,
      "outputs": []
    },
    {
      "cell_type": "code",
      "source": [
        "from qiskit import IBMQ\n",
        "from qiskit import QuantumCircuit\n",
        "from qiskit import Aer\n",
        "\n",
        "from qiskit.visualization import plot_histogram\n",
        "\n",
        "IBMQ.save_account('8936ca0c39d4f85f0e5917362dea5c2f9bed5f12b2c032ddb0a5d7076b3564563a80b9138525e48f368b91085bc7472645a09b7e388d8c005b01b8e16c9e3403')\n",
        "IBMQ.load_account()\n",
        "provider = IBMQ.get_provider(hub='ibm-q') ## public hub\n",
        "provider.backends()"
      ],
      "metadata": {
        "id": "0L3bq7gHCOOM"
      },
      "execution_count": null,
      "outputs": []
    },
    {
      "cell_type": "code",
      "execution_count": null,
      "metadata": {
        "id": "qNUx2DCUxIxT"
      },
      "outputs": [],
      "source": [
        "import numpy as np\n",
        "from qiskit import QuantumCircuit\n",
        "from qiskit import Aer, transpile\n",
        "from qiskit.tools.visualization import plot_histogram, plot_state_city\n",
        "import qiskit.quantum_info as qi"
      ]
    },
    {
      "cell_type": "code",
      "source": [
        "simulator = Aer.get_backend('aer_simulator')"
      ],
      "metadata": {
        "id": "gAuMnUBACbGU"
      },
      "execution_count": null,
      "outputs": []
    },
    {
      "cell_type": "code",
      "source": [
        "# Create circuit\n",
        "circ = QuantumCircuit(2)\n",
        "circ.h(0)\n",
        "circ.x(0)\n",
        "circ.measure_all()\n",
        "print(circ.draw())\n",
        "# Transpile for simulator\n",
        "simulator = Aer.get_backend('aer_simulator')\n",
        "circ = transpile(circ, simulator)\n",
        "\n",
        "# Run and get counts\n",
        "result = simulator.run(circ).result()\n",
        "counts = result.get_counts(circ)\n",
        "plot_histogram(counts, title='Bell-State counts')"
      ],
      "metadata": {
        "colab": {
          "base_uri": "https://localhost:8080/",
          "height": 469
        },
        "id": "OII6ukAeCdn0",
        "outputId": "a6e4825e-fc85-4db2-b02e-95df9da52b09"
      },
      "execution_count": null,
      "outputs": [
        {
          "output_type": "stream",
          "name": "stdout",
          "text": [
            "        ┌───┐┌───┐ ░ ┌─┐   \n",
            "   q_0: ┤ H ├┤ X ├─░─┤M├───\n",
            "        └───┘└───┘ ░ └╥┘┌─┐\n",
            "   q_1: ───────────░──╫─┤M├\n",
            "                   ░  ║ └╥┘\n",
            "meas: 2/══════════════╩══╩═\n",
            "                      0  1 \n"
          ]
        },
        {
          "output_type": "execute_result",
          "data": {
            "text/plain": [
              "<Figure size 504x360 with 1 Axes>"
            ],
            "image/png": "[encoded data removed]"
          },
          "metadata": {},
          "execution_count": 32
        }
      ]
    },
    {
      "cell_type": "markdown",
      "source": [
        "Q4"
      ],
      "metadata": {
        "id": "AL7T-VJ-cjuu"
      }
    },
    {
      "cell_type": "code",
      "source": [
        "from math import *\n",
        "circ = QuantumCircuit(2)\n",
        "circ.ry(pi/2,0)\n",
        "circ.cx(0,1)\n",
        "print(circ.draw())\n",
        "circ.measure_all()\n",
        "simulator = Aer.get_backend('aer_simulator')\n",
        "circ = transpile(circ, simulator)\n",
        "result = simulator.run(circ).result()\n",
        "counts = result.get_counts(circ)\n",
        "plot_histogram(counts, title='Bell-State counts')"
      ],
      "metadata": {
        "colab": {
          "base_uri": "https://localhost:8080/",
          "height": 434
        },
        "id": "wGpHxsdYckwP",
        "outputId": "3b933404-a57d-4f6b-825d-aaf1ec051d07"
      },
      "execution_count": null,
      "outputs": [
        {
          "output_type": "stream",
          "name": "stdout",
          "text": [
            "     ┌─────────┐     \n",
            "q_0: ┤ Ry(π/2) ├──■──\n",
            "     └─────────┘┌─┴─┐\n",
            "q_1: ───────────┤ X ├\n",
            "                └───┘\n"
          ]
        },
        {
          "output_type": "execute_result",
          "data": {
            "text/plain": [
              "<Figure size 504x360 with 1 Axes>"
            ],
            "image/png": "[encoded data removed]"
          },
          "metadata": {},
          "execution_count": 33
        }
      ]
    },
    {
      "cell_type": "code",
      "source": [
        "from math import *\n",
        "circ = QuantumCircuit(2)\n",
        "circ.ry(pi/4,0)\n",
        "circ.cx(0,1)\n",
        "print(circ.draw())\n",
        "circ.measure_all()\n",
        "simulator = Aer.get_backend('aer_simulator')\n",
        "circ = transpile(circ, simulator)\n",
        "result = simulator.run(circ).result()\n",
        "counts = result.get_counts(circ)\n",
        "plot_histogram(counts, title='Bell-State counts')"
      ],
      "metadata": {
        "colab": {
          "base_uri": "https://localhost:8080/",
          "height": 434
        },
        "id": "9jA_c8Lrck6D",
        "outputId": "c9bd868e-3727-4c42-8084-f58d92dd4aaa"
      },
      "execution_count": null,
      "outputs": [
        {
          "output_type": "stream",
          "name": "stdout",
          "text": [
            "     ┌─────────┐     \n",
            "q_0: ┤ Ry(π/4) ├──■──\n",
            "     └─────────┘┌─┴─┐\n",
            "q_1: ───────────┤ X ├\n",
            "                └───┘\n"
          ]
        },
        {
          "output_type": "execute_result",
          "data": {
            "text/plain": [
              "<Figure size 504x360 with 1 Axes>"
            ],
            "image/png": "[encoded data removed]"
          },
          "metadata": {},
          "execution_count": 34
        }
      ]
    },
    {
      "cell_type": "code",
      "source": [
        "circ = QuantumCircuit(2)\n",
        "circ.x(0)\n",
        "circ.cx(0,1)\n",
        "print(circ.draw())\n",
        "circ.measure_all()\n",
        "simulator = Aer.get_backend('aer_simulator')\n",
        "circ = transpile(circ, simulator)\n",
        "result = simulator.run(circ).result()\n",
        "counts = result.get_counts(circ)\n",
        "plot_histogram(counts, title='Bell-State counts')"
      ],
      "metadata": {
        "colab": {
          "base_uri": "https://localhost:8080/",
          "height": 434
        },
        "id": "R_Zya1grhGpK",
        "outputId": "a7a64adf-450c-457b-b56b-d9f0de3e401b"
      },
      "execution_count": null,
      "outputs": [
        {
          "output_type": "stream",
          "name": "stdout",
          "text": [
            "     ┌───┐     \n",
            "q_0: ┤ X ├──■──\n",
            "     └───┘┌─┴─┐\n",
            "q_1: ─────┤ X ├\n",
            "          └───┘\n"
          ]
        },
        {
          "output_type": "execute_result",
          "data": {
            "text/plain": [
              "<Figure size 504x360 with 1 Axes>"
            ],
            "image/png": "[encoded data removed]"
          },
          "metadata": {},
          "execution_count": 36
        }
      ]
    },
    {
      "cell_type": "code",
      "source": [
        "circ = QuantumCircuit(2)\n",
        "circ.rx(pi/3,0)\n",
        "circ.cx(0,1)\n",
        "print(circ.draw())\n",
        "circ.measure_all()\n",
        "simulator = Aer.get_backend('aer_simulator')\n",
        "circ = transpile(circ, simulator)\n",
        "result = simulator.run(circ).result()\n",
        "counts = result.get_counts(circ)\n",
        "plot_histogram(counts, title='Bell-State counts')"
      ],
      "metadata": {
        "colab": {
          "base_uri": "https://localhost:8080/",
          "height": 434
        },
        "id": "5jwbvnxUdwud",
        "outputId": "be95aea4-ceab-449f-95f9-6cea70ac1b3b"
      },
      "execution_count": null,
      "outputs": [
        {
          "output_type": "stream",
          "name": "stdout",
          "text": [
            "     ┌─────────┐     \n",
            "q_0: ┤ Rx(π/3) ├──■──\n",
            "     └─────────┘┌─┴─┐\n",
            "q_1: ───────────┤ X ├\n",
            "                └───┘\n"
          ]
        },
        {
          "output_type": "execute_result",
          "data": {
            "text/plain": [
              "<Figure size 504x360 with 1 Axes>"
            ],
            "image/png": "[encoded data removed]"
          },
          "metadata": {},
          "execution_count": 35
        }
      ]
    },
    {
      "cell_type": "markdown",
      "source": [
        "Q5"
      ],
      "metadata": {
        "id": "7DcmDpwCUFXS"
      }
    },
    {
      "cell_type": "code",
      "source": [
        "circuit = QuantumCircuit(2, 0)\n",
        "circuit.h(0)\n",
        "circuit.x(1)\n",
        "circuit.cx(0,1)\n",
        "circuit.measure_all()\n",
        "print(circuit.draw(initial_state=True))\n",
        "result = simulator.run(circuit).result()\n",
        "counts = result.get_counts(circuit)\n",
        "plot_histogram(counts, title='Bell-State counts')"
      ],
      "metadata": {
        "colab": {
          "base_uri": "https://localhost:8080/",
          "height": 469
        },
        "id": "eKihkQmjTHl_",
        "outputId": "19b14470-50ba-43e8-8b45-4c0071a6dd8a"
      },
      "execution_count": null,
      "outputs": [
        {
          "output_type": "stream",
          "name": "stdout",
          "text": [
            "          ┌───┐      ░ ┌─┐   \n",
            "  q_0: |0>┤ H ├──■───░─┤M├───\n",
            "          ├───┤┌─┴─┐ ░ └╥┘┌─┐\n",
            "  q_1: |0>┤ X ├┤ X ├─░──╫─┤M├\n",
            "          └───┘└───┘ ░  ║ └╥┘\n",
            "meas: 0 2/══════════════╩══╩═\n",
            "                        0  1 \n"
          ]
        },
        {
          "output_type": "execute_result",
          "data": {
            "text/plain": [
              "<Figure size 504x360 with 1 Axes>"
            ],
            "image/png": "[encoded data removed]"
          },
          "metadata": {},
          "execution_count": 26
        }
      ]
    },
    {
      "cell_type": "markdown",
      "source": [
        "Q6"
      ],
      "metadata": {
        "id": "5oXQWfZqUGnu"
      }
    },
    {
      "cell_type": "code",
      "source": [
        "circuit = QuantumCircuit(2, 0)\n",
        "circuit.h(0)\n",
        "circuit.x(0)\n",
        "circuit.cx(0,1)\n",
        "circuit.measure_all()\n",
        "print(circuit.draw(initial_state=True))\n",
        "result = simulator.run(circuit).result()\n",
        "counts = result.get_counts(circuit)\n",
        "plot_histogram(counts, title='Bell-State counts')"
      ],
      "metadata": {
        "colab": {
          "base_uri": "https://localhost:8080/",
          "height": 469
        },
        "id": "QZACioLNUHoW",
        "outputId": "c65318e2-fb73-4212-8f78-5f1cc58da104"
      },
      "execution_count": null,
      "outputs": [
        {
          "output_type": "stream",
          "name": "stdout",
          "text": [
            "          ┌───┐┌───┐      ░ ┌─┐   \n",
            "  q_0: |0>┤ H ├┤ X ├──■───░─┤M├───\n",
            "          └───┘└───┘┌─┴─┐ ░ └╥┘┌─┐\n",
            "  q_1: |0>──────────┤ X ├─░──╫─┤M├\n",
            "                    └───┘ ░  ║ └╥┘\n",
            "meas: 0 2/═══════════════════╩══╩═\n",
            "                             0  1 \n"
          ]
        },
        {
          "output_type": "execute_result",
          "data": {
            "text/plain": [
              "<Figure size 504x360 with 1 Axes>"
            ],
            "image/png": "[encoded data removed]"
          },
          "metadata": {},
          "execution_count": 27
        }
      ]
    },
    {
      "cell_type": "markdown",
      "source": [
        "Q7"
      ],
      "metadata": {
        "id": "IsuQovuEzdGm"
      }
    },
    {
      "cell_type": "code",
      "source": [
        "q1=np.array([0,1])\n",
        "q0=np.array([1,0])\n",
        "ans = np.kron(np.kron(np.kron(q0,q0),q1),q0)"
      ],
      "metadata": {
        "id": "Wlgsr-ZBxVNA"
      },
      "execution_count": null,
      "outputs": []
    },
    {
      "cell_type": "code",
      "source": [
        "ans"
      ],
      "metadata": {
        "colab": {
          "base_uri": "https://localhost:8080/"
        },
        "id": "-UgtG00czses",
        "outputId": "ae9fb595-c287-466e-96e0-13cfd357c713"
      },
      "execution_count": null,
      "outputs": [
        {
          "output_type": "execute_result",
          "data": {
            "text/plain": [
              "array([0, 0, 1, 0, 0, 0, 0, 0, 0, 0, 0, 0, 0, 0, 0, 0])"
            ]
          },
          "metadata": {},
          "execution_count": 9
        }
      ]
    },
    {
      "cell_type": "code",
      "source": [
        "I= np.array([[1,0],[0,1]])\n",
        "CNOT = np.array([[1,0,0,0],[0,1,0,0],[0,0,0,1],[0,0,1,0]])\n",
        "U = np.kron(np.kron(I,I),CNOT)\n",
        "print(U)"
      ],
      "metadata": {
        "colab": {
          "base_uri": "https://localhost:8080/"
        },
        "id": "XMIXHft_zwdv",
        "outputId": "fb991d85-0e3e-4dda-f3e5-075807fba63d"
      },
      "execution_count": null,
      "outputs": [
        {
          "output_type": "stream",
          "name": "stdout",
          "text": [
            "[[1 0 0 0 0 0 0 0 0 0 0 0 0 0 0 0]\n",
            " [0 1 0 0 0 0 0 0 0 0 0 0 0 0 0 0]\n",
            " [0 0 0 1 0 0 0 0 0 0 0 0 0 0 0 0]\n",
            " [0 0 1 0 0 0 0 0 0 0 0 0 0 0 0 0]\n",
            " [0 0 0 0 1 0 0 0 0 0 0 0 0 0 0 0]\n",
            " [0 0 0 0 0 1 0 0 0 0 0 0 0 0 0 0]\n",
            " [0 0 0 0 0 0 0 1 0 0 0 0 0 0 0 0]\n",
            " [0 0 0 0 0 0 1 0 0 0 0 0 0 0 0 0]\n",
            " [0 0 0 0 0 0 0 0 1 0 0 0 0 0 0 0]\n",
            " [0 0 0 0 0 0 0 0 0 1 0 0 0 0 0 0]\n",
            " [0 0 0 0 0 0 0 0 0 0 0 1 0 0 0 0]\n",
            " [0 0 0 0 0 0 0 0 0 0 1 0 0 0 0 0]\n",
            " [0 0 0 0 0 0 0 0 0 0 0 0 1 0 0 0]\n",
            " [0 0 0 0 0 0 0 0 0 0 0 0 0 1 0 0]\n",
            " [0 0 0 0 0 0 0 0 0 0 0 0 0 0 0 1]\n",
            " [0 0 0 0 0 0 0 0 0 0 0 0 0 0 1 0]]\n"
          ]
        }
      ]
    },
    {
      "cell_type": "code",
      "source": [
        "print(np.dot(U,ans))"
      ],
      "metadata": {
        "colab": {
          "base_uri": "https://localhost:8080/"
        },
        "id": "VExE9MZM0Ozk",
        "outputId": "a7245182-5e22-41e8-ea59-b35b7f88dffc"
      },
      "execution_count": null,
      "outputs": [
        {
          "output_type": "stream",
          "name": "stdout",
          "text": [
            "[0 0 0 1 0 0 0 0 0 0 0 0 0 0 0 0]\n"
          ]
        }
      ]
    }
  ]
}